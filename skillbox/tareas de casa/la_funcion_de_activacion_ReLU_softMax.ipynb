{
 "cells": [
  {
   "cell_type": "markdown",
   "metadata": {},
   "source": [
    "**Escribir una capa ReLU**"
   ]
  },
  {
   "cell_type": "markdown",
   "metadata": {},
   "source": [
    "$$\n",
    "ReLU(x) = max(0, x)\n",
    "$$"
   ]
  },
  {
   "cell_type": "code",
   "execution_count": 1,
   "metadata": {},
   "outputs": [],
   "source": [
    "import numpy as np\n",
    "import matplotlib.pyplot as plt\n",
    "from scipy.misc import derivative\n",
    "from typing import List\n",
    "from tqdm import tqdm_notebook as tqdm\n",
    "from IPython.display import clear_output"
   ]
  },
  {
   "cell_type": "code",
   "execution_count": 2,
   "metadata": {},
   "outputs": [],
   "source": [
    "class Capa:\n",
    "    \"\"\"\n",
    "    Clase base para una capa de nuestra red neuronal.\n",
    "    Todas las capas deben heredar de esta y deben implementar dos métodos: forward y backward.\n",
    "    \"\"\"\n",
    "    def forward(self, x):\n",
    "        pass\n",
    "    \n",
    "    def backward(self, dL_dz, tasa_aprendizaje=0):\n",
    "        pass"
   ]
  },
  {
   "cell_type": "code",
   "execution_count": 3,
   "metadata": {},
   "outputs": [],
   "source": [
    "class ReLU(Capa):\n",
    "    \"\"\"\n",
    "    Capa ReLU\n",
    "    \"\"\"\n",
    "    def forward(self, x):\n",
    "        \"\"\"\n",
    "        Método que calcula ReLU(x).\n",
    "\n",
    "        El tamaño de la salida debe coincidir con la entrada.\n",
    "\n",
    "        \"\"\"\n",
    "\n",
    "        self._entrada_guardada = x  # Necesitamos guardar la entrada\n",
    "        salida = None\n",
    "        salida = np.clip(x, 0, None) # el método clip de la librería numpy permite recortar valores fuera del intervalo a los bordes del intervalo para un intervalo dado\n",
    "\n",
    "        assert salida.shape == x.shape\n",
    "        return salida\n",
    "\n",
    "    def backward(self, dL_dz, tasa_aprendizaje=0.):\n",
    "        \"\"\"\n",
    "        dL_dz -- derivada de la función final con respecto a la salida de esta capa.\n",
    "        La dimensión debe coincidir exactamente con la dimensión\n",
    "        de x que pasó por el pase hacia adelante.\n",
    "        tasa_aprendizaje -- no se utiliza, ya que ReLU no contiene parámetros.\n",
    "\n",
    "        El método debe calcular la derivada dL_dx.\n",
    "\n",
    "        \"\"\"\n",
    "        dz_dx = None\n",
    "        dz_dx = np.heaviside(self._entrada_guardada, 0)\n",
    "        \n",
    "        assert dz_dx.shape == self._entrada_guardada.shape, f\"Las dimensiones deben ser iguales. Se obtuvo {dz_dx.shape, self._entrada_guardada.shape}\"\n",
    "        salida = dz_dx * dL_dz\n",
    "        return salida"
   ]
  },
  {
   "cell_type": "code",
   "execution_count": 5,
   "metadata": {},
   "outputs": [
    {
     "data": {
      "text/plain": [
       "[<matplotlib.lines.Line2D at 0x1a301ced290>]"
      ]
     },
     "execution_count": 5,
     "metadata": {},
     "output_type": "execute_result"
    },
    {
     "data": {
      "image/png": "[encoded data removed]",
      "text/plain": [
       "<Figure size 640x480 with 1 Axes>"
      ]
     },
     "metadata": {},
     "output_type": "display_data"
    }
   ],
   "source": [
    "relu = ReLU()\n",
    "\n",
    "plt.plot(np.linspace(-1, 1, 100), relu.forward(np.linspace(-1, 1, 100)))"
   ]
  },
  {
   "cell_type": "markdown",
   "metadata": {},
   "source": [
    "**Realización de una capa totalmente conectada**"
   ]
  },
  {
   "cell_type": "code",
   "execution_count": 7,
   "metadata": {},
   "outputs": [],
   "source": [
    "class CapaFC(Capa):\n",
    "    \"\"\"\n",
    "    Capa totalmente conectada (fully connected/dense)\n",
    "    \"\"\"\n",
    "    def __init__(self, in_dim, out_dim):\n",
    "        \"\"\"\n",
    "        in_dim, out_dim -- número de neuronas de entrada y salida respectivamente\n",
    "\n",
    "        \"\"\"\n",
    "        self.in_dim = in_dim\n",
    "        self.out_dim = out_dim\n",
    "        # inicializamos la matriz de pesos (in_dim, out_dim) con una distribución normal\n",
    "        self.weights = np.random.randn(in_dim, out_dim) * 0.001\n",
    "\n",
    "        # inicializamos el sesgo con ceros\n",
    "        self.bias = np.zeros(self.out_dim)\n",
    "        self._entrada_guardada = None\n",
    "    \n",
    "    def forward(self, x: np.ndarray) -> np.ndarray:\n",
    "        \"\"\"\n",
    "        Cálculo de la salida de la capa totalmente conectada.\n",
    "\n",
    "        x -- entrada de la capa, dimensionalidad (N, in_dim), donde N es el número de objetos en el lote\n",
    "\n",
    "        return: matmul(x, weights) + bias\n",
    "        \"\"\"\n",
    "        assert np.ndim(x) == 2\n",
    "        assert x.shape[1] == self.in_dim\n",
    "        self._entrada_guardada = x\n",
    "\n",
    "        salida = np.dot(x, self.weights) + self.bias\n",
    "        \n",
    "        assert salida.shape == (x.shape[0], self.out_dim), (salida.shape, (x.shape[0], self.out_dim))\n",
    "        return salida\n",
    "    \n",
    "    def backward(self, dL_dz, tasa_aprendizaje=0.):\n",
    "        \"\"\"\n",
    "        dL_dz -- derivada de la función final con respecto a la salida de esta capa.\n",
    "        Dimensionalidad (N, self.out_dim).\n",
    "        tasa_aprendizaje -- si no es cero, los parámetros\n",
    "        de la capa (weights, bias) se actualizarán con la llamada a esta función\n",
    "\n",
    "        El método debe calcular la derivada dL_dx.\n",
    "        \n",
    "        \"\"\"\n",
    "        assert np.ndim(dL_dz) == 2\n",
    "        assert dL_dz.shape[1] == self.out_dim\n",
    "\n",
    "        self.dL_dw = np.dot(self._entrada_guardada.T, dL_dz)\n",
    "        self.dL_dx = np.dot(dL_dz, self.weights.T)\n",
    "        self.dL_db = dL_dz.sum(0) \n",
    "        \n",
    "        assert self.dL_db.shape == self.bias.shape\n",
    "        assert self.dL_dw.shape == self.weights.shape\n",
    "        assert self.dL_dx.shape == self._entrada_guardada.shape\n",
    "\n",
    "        if tasa_aprendizaje != 0:\n",
    "            self.weights -= tasa_aprendizaje * self.dL_dw\n",
    "            self.bias -= tasa_aprendizaje * self.dL_db\n",
    "        \n",
    "        return self.dL_dx\n"
   ]
  },
  {
   "cell_type": "code",
   "execution_count": 9,
   "metadata": {},
   "outputs": [],
   "source": [
    "def entropia_cruzada_multiclase_con_logits(logits, y_true):\n",
    "    \"\"\"\n",
    "    logits -- salida de la red neuronal sin activación. Dimensión: (N, k),\n",
    "              donde N es la cantidad de objetos y k es la cantidad de clases\n",
    "    y_true -- clases reales para N objetos\n",
    "\n",
    "    La función devuelve un vector de pérdidas para cada objeto\n",
    "    \n",
    "    \"\"\"\n",
    "\n",
    "    logits_para_respuestas = logits[np.arange(len(logits)), y_true]\n",
    "    \n",
    "    entropia_cruzada = -logits_para_respuestas + np.log(np.sum(np.exp(logits), axis=-1))\n",
    "    \n",
    "    return entropia_cruzada\n",
    "\n",
    "def gradiente_entropia_cruzada_multiclase_con_logits(logits, y_true):\n",
    "    \"\"\"\n",
    "    logits -- salida de la red neuronal sin activación. Dimensión: (N, k),\n",
    "              donde N es la cantidad de objetos y k es la cantidad de clases\n",
    "    y_true -- clases reales para N objetos\n",
    "\n",
    "    La función devuelve la matriz de derivadas.\n",
    "    \n",
    "    \"\"\"\n",
    "    unos_para_respuestas = np.zeros_like(logits)\n",
    "    unos_para_respuestas[np.arange(len(logits)), y_true] = 1\n",
    "    \n",
    "    softmax = np.exp(logits) / np.exp(logits).sum(axis=-1, keepdims=True)\n",
    "    \n",
    "    return (- unos_para_respuestas + softmax) / logits.shape[0]\n"
   ]
  },
  {
   "cell_type": "markdown",
   "metadata": {},
   "source": [
    "**Implementación de la clase Network.**"
   ]
  },
  {
   "cell_type": "code",
   "execution_count": 10,
   "metadata": {},
   "outputs": [],
   "source": [
    "class RedNeuronal:\n",
    "    \"\"\"\n",
    "    Red neuronal\n",
    "\n",
    "    \"\"\"\n",
    "    def __init__(self, capas: List[Capa]):\n",
    "        \"\"\"\n",
    "        Para inicializar la red neuronal, necesitamos una lista de capas que deben aplicarse secuencialmente entre sí.\n",
    "\n",
    "        \"\"\"\n",
    "        self.capas = capas\n",
    "    \n",
    "    def forward(self, x: np.ndarray):\n",
    "        \"\"\"\n",
    "        x -- lote de objetos de entrada de tamaño (N, tamaño_entrada_primera_capa)\n",
    "        \n",
    "        Dado x como entrada, la red debe aplicar cada capa a ella en secuencia.\n",
    "        Es decir, la salida de cada capa es la entrada de la siguiente.\n",
    "\n",
    "        x -> capa_0 -> capa_1 ... -> ultima_capa\n",
    "\n",
    "        \"\"\"\n",
    "        salida = None\n",
    "        salida = x\n",
    "        for capa in self.capas:\n",
    "            salida = capa.forward(salida)\n",
    "        return salida\n",
    "\n",
    "    def predecir(self, x):\n",
    "        \"\"\"\n",
    "        x -- lote de objetos de entrada de tamaño (N, tamaño_entrada_primera_capa)\n",
    "        \n",
    "        La función debe devolver un vector de tamaño (N) con el número de clase predicha\n",
    "        para cada objeto. \n",
    "\n",
    "        \"\"\"\n",
    "        logits = self.forward(x) # calculamos los logitos haciendo un pase directo completo de la red\n",
    "        clases = None\n",
    "        clases = np.argmax(logits, axis=1)\n",
    "        assert clases.shape == (x.shape[0],)\n",
    "        return clases\n",
    "    \n",
    "    def paso_entrenamiento(self, x, y, tasa_aprendizaje):\n",
    "        \"\"\"\n",
    "        x -- lote de objetos de entrada de tamaño (N, tamaño_entrada_primera_capa)\n",
    "        y -- clases reales de los objetos (N)\n",
    "\n",
    "        \"\"\"\n",
    "        logits = self.forward(x)\n",
    "        perdida = entropia_cruzada_multiclase_con_logits(logits, y)\n",
    "        gradiente_perdida = gradiente_entropia_cruzada_multiclase_con_logits(logits, y)\n",
    "        \n",
    "        gradiente = gradiente_perdida\n",
    "        for capa in reversed(self.capas):\n",
    "            gradiente = capa.backward(gradiente, tasa_aprendizaje)\n",
    "        return np.mean(perdida)\n",
    "    \n",
    "    def ajustar(self, x_entrenamiento, y_entrenamiento, x_prueba, y_prueba, tasa_aprendizaje, num_epocas, tamaño_lote):\n",
    "        \"\"\"\n",
    "        El bucle de entrenamiento ya está implementado. Su tarea principal es iterar sobre \n",
    "        los mini lotes y llamar a train_step en cada uno de ellos, que ya has implementado.\n",
    "\n",
    "        De lo contrario, es la presentación de informes de pérdidas, precisión y trazado de gráficos.\n",
    "\n",
    "        \"\"\"\n",
    "        registro_entrenamiento = []\n",
    "        registro_prueba = []\n",
    "        registro_perdida = []\n",
    "\n",
    "        for epoca in range(num_epocas):\n",
    "            perdida_iters = []\n",
    "            for x_lote,y_lote in iterate_minibatches(x_entrenamiento, y_entrenamiento, tamaño_lote, shuffle=True):\n",
    "                perdida_iters.append(self.paso_entrenamiento(x_lote, y_lote, tasa_aprendizaje=tasa_aprendizaje))\n",
    "\n",
    "            registro_perdida.append(np.mean(perdida_iters)) # para visualización, promediamos la pérdida por cada iteración\n",
    "            precisión_entrenamiento = accuracy_score(y_entrenamiento, self.predecir(x_entrenamiento))\n",
    "            precisión_prueba = accuracy_score(y_prueba, self.predecir(x_prueba))\n",
    "            registro_entrenamiento.append(precisión_entrenamiento)\n",
    "            registro_prueba.append(precisión_prueba)\n",
    "\n",
    "            clear_output()\n",
    "            print(\"Época\", epoca)\n",
    "            print(\"Precisión en entrenamiento:\", registro_entrenamiento[-1])\n",
    "            print(\"Precisión en prueba:\", registro_prueba[-1])\n",
    "            plt.figure(figsize=(10, 5))\n",
    "            ax1 = plt.subplot(1,2,1)    \n",
    "            plt.plot(registro_entrenamiento,label='precisión en entrenamiento')\n",
    "            plt.plot(registro_prueba,label='precisión en prueba')\n",
    "            ax2 = plt.subplot(1,2,2)\n",
    "            plt.plot(registro_perdida,label='pérdida')\n",
    "            ax1.legend(loc='best')\n",
    "            ax2.legend(loc='best')\n",
    "            plt.grid()\n",
    "            plt.tight_layout()\n",
    "            plt.show()\n",
    "\n",
    "def iterate_minibatches(inputs, targets, tamaño_lote, shuffle=False):\n",
    "    assert len(inputs) == len(targets)\n",
    "    if shuffle:\n",
    "        indices = np.random.permutation(len(inputs))\n",
    "    for start_idx in tqdm(range(0, len(inputs) - tamaño_lote + 1, tamaño_lote)):\n",
    "        if shuffle:\n",
    "            indices_lote = indices[start_idx:start_idx + tamaño_lote]\n",
    "        else:\n",
    "            indices_lote = slice(start_idx, start_idx + tamaño_lote)\n",
    "            \n",
    "        yield inputs[indices_lote], targets[indices_lote]\n"
   ]
  },
  {
   "cell_type": "markdown",
   "metadata": {},
   "source": [
    "**Enseñanza**"
   ]
  },
  {
   "cell_type": "code",
   "execution_count": 11,
   "metadata": {},
   "outputs": [],
   "source": [
    "def show_mnist(images, labels, predicted_labels=None):\n",
    "    plt.figure(figsize=(10,10))\n",
    "    for i in range(16):\n",
    "        plt.subplot(4,4, i+1)\n",
    "        plt.xticks([])\n",
    "        plt.yticks([])\n",
    "        plt.grid(False)\n",
    "        plt.imshow(images[i], cmap=plt.cm.gray)\n",
    "        if predicted_labels is not None:\n",
    "            title_obj = plt.title(f\"Real: {labels[i]}. Pred: {predicted_labels[i]}\")\n",
    "            if labels[i] != predicted_labels[i]:\n",
    "                plt.setp(title_obj, color='r')\n",
    "        else:\n",
    "            plt.title(f\"Real label: {labels[i]}\")"
   ]
  },
  {
   "cell_type": "code",
   "execution_count": 12,
   "metadata": {},
   "outputs": [
    {
     "name": "stdout",
     "output_type": "stream",
     "text": [
      "WARNING:tensorflow:From C:\\Users\\Ульяна\\AppData\\Local\\Packages\\PythonSoftwareFoundation.Python.3.11_qbz5n2kfra8p0\\LocalCache\\local-packages\\Python311\\site-packages\\keras\\src\\losses.py:2976: The name tf.losses.sparse_softmax_cross_entropy is deprecated. Please use tf.compat.v1.losses.sparse_softmax_cross_entropy instead.\n",
      "\n",
      "Downloading data from https://storage.googleapis.com/tensorflow/tf-keras-datasets/mnist.npz\n",
      "11490434/11490434 [==============================] - 2s 0us/step\n",
      "(60000, 784) (10000, 784)\n"
     ]
    },
    {
     "data": {
      "image/png": "[encoded data removed]",
      "text/plain": [
       "<Figure size 1000x1000 with 16 Axes>"
      ]
     },
     "metadata": {},
     "output_type": "display_data"
    }
   ],
   "source": [
    "import tensorflow as tf\n",
    "from sklearn.metrics import accuracy_score\n",
    "(train_images, train_labels), (test_images, test_labels) = tf.keras.datasets.mnist.load_data()\n",
    "\n",
    "show_mnist(train_images, train_labels)\n",
    "\n",
    "# convertir imágenes a la forma deseada\n",
    "train_images = train_images.reshape(train_images.shape[0], -1).astype('float32') / 255.\n",
    "test_images = test_images.reshape(test_images.shape[0], -1).astype('float32') / 255.\n",
    "print(train_images.shape, test_images.shape)"
   ]
  }
 ],
 "metadata": {
  "kernelspec": {
   "display_name": "Python 3",
   "language": "python",
   "name": "python3"
  },
  "language_info": {
   "codemirror_mode": {
    "name": "ipython",
    "version": 3
   },
   "file_extension": ".py",
   "mimetype": "text/x-python",
   "name": "python",
   "nbconvert_exporter": "python",
   "pygments_lexer": "ipython3",
   "version": "3.11.8"
  }
 },
 "nbformat": 4,
 "nbformat_minor": 2
}
