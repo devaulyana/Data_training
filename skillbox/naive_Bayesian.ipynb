{
 "cells": [
  {
   "cell_type": "code",
   "execution_count": 7,
   "metadata": {},
   "outputs": [
    {
     "data": {
      "text/html": [
       "<div>\n",
       "<style scoped>\n",
       "    .dataframe tbody tr th:only-of-type {\n",
       "        vertical-align: middle;\n",
       "    }\n",
       "\n",
       "    .dataframe tbody tr th {\n",
       "        vertical-align: top;\n",
       "    }\n",
       "\n",
       "    .dataframe thead th {\n",
       "        text-align: right;\n",
       "    }\n",
       "</style>\n",
       "<table border=\"1\" class=\"dataframe\">\n",
       "  <thead>\n",
       "    <tr style=\"text-align: right;\">\n",
       "      <th></th>\n",
       "      <th>Long</th>\n",
       "      <th>Sweet</th>\n",
       "      <th>Yellow</th>\n",
       "      <th>Total</th>\n",
       "    </tr>\n",
       "  </thead>\n",
       "  <tbody>\n",
       "    <tr>\n",
       "      <th>Banana</th>\n",
       "      <td>400</td>\n",
       "      <td>350</td>\n",
       "      <td>450</td>\n",
       "      <td>500</td>\n",
       "    </tr>\n",
       "    <tr>\n",
       "      <th>Orange</th>\n",
       "      <td>0</td>\n",
       "      <td>150</td>\n",
       "      <td>300</td>\n",
       "      <td>300</td>\n",
       "    </tr>\n",
       "    <tr>\n",
       "      <th>Plum</th>\n",
       "      <td>30</td>\n",
       "      <td>180</td>\n",
       "      <td>100</td>\n",
       "      <td>200</td>\n",
       "    </tr>\n",
       "    <tr>\n",
       "      <th>Total</th>\n",
       "      <td>430</td>\n",
       "      <td>680</td>\n",
       "      <td>850</td>\n",
       "      <td>1000</td>\n",
       "    </tr>\n",
       "  </tbody>\n",
       "</table>\n",
       "</div>"
      ],
      "text/plain": [
       "        Long  Sweet  Yellow  Total\n",
       "Banana   400    350     450    500\n",
       "Orange     0    150     300    300\n",
       "Plum      30    180     100    200\n",
       "Total    430    680     850   1000"
      ]
     },
     "execution_count": 7,
     "metadata": {},
     "output_type": "execute_result"
    }
   ],
   "source": [
    "#tabla de frecuencia\n",
    "\n",
    "import pandas as pd\n",
    "import numpy as np\n",
    "\n",
    "data = np.array([[400, 350, 450, 500],\n",
    "                 [0, 150, 300, 300],\n",
    "                 [30, 180, 100, 200],\n",
    "                 [430, 680, 850, 1000]])\n",
    "idx = ['Banana', 'Orange', 'Plum', 'Total']\n",
    "col = ['Long', 'Sweet', 'Yellow', 'Total']\n",
    "\n",
    "fruits = pd.DataFrame(data, columns=col, index=idx)\n",
    "fruits"
   ]
  },
  {
   "cell_type": "markdown",
   "metadata": {},
   "source": [
    "La Última columna de *Total* representa la cantidad de fruta de una clase específica (500 plátanos, 300 naranjas y 200 ciruelas, 1000 en total). En la línea total - el número total de frutas con ciertos signos {long, sweet, yellow}."
   ]
  },
  {
   "cell_type": "markdown",
   "metadata": {},
   "source": [
    "Calculamos para cada una de las clases la fórmula de Bayes, utilizando para esto los datos de la tabla de frecuencia."
   ]
  },
  {
   "cell_type": "code",
   "execution_count": 8,
   "metadata": {},
   "outputs": [
    {
     "data": {
      "text/plain": [
       "{'Banana': 0.252, 'Orange': 0.0, 'Plum': 0.013500000000000002}"
      ]
     },
     "execution_count": 8,
     "metadata": {},
     "output_type": "execute_result"
    }
   ],
   "source": [
    "result = {}\n",
    "for i in range (fruits.values.shape[0] - 1):\n",
    "    p = 1\n",
    "    for j in range (fruits.values.shape[1] - 1):\n",
    "        p *= fruits.values[i, j] / fruits.values[i, -1]\n",
    "    p *= fruits.values[i, -1] / fruits.values[-1, -1]\n",
    "    result[fruits.index[i]] = p\n",
    "    \n",
    "result"
   ]
  },
  {
   "cell_type": "markdown",
   "metadata": {},
   "source": [
    "La clase con mayor probabilidad es la respuesta."
   ]
  }
 ],
 "metadata": {
  "kernelspec": {
   "display_name": "Python 3",
   "language": "python",
   "name": "python3"
  },
  "language_info": {
   "codemirror_mode": {
    "name": "ipython",
    "version": 3
   },
   "file_extension": ".py",
   "mimetype": "text/x-python",
   "name": "python",
   "nbconvert_exporter": "python",
   "pygments_lexer": "ipython3",
   "version": "3.11.7"
  }
 },
 "nbformat": 4,
 "nbformat_minor": 2
}
