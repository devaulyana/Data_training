{
 "cells": [
  {
   "cell_type": "markdown",
   "metadata": {},
   "source": [
    "**Entrenamiento de un perceptrón multicapa utilizando el ejemplo de la operación lógica XOR.**"
   ]
  },
  {
   "attachments": {
    "image.png": {
     "image/png": "[encoded data removed]"
    }
   },
   "cell_type": "markdown",
   "metadata": {},
   "source": [
    "![image.png](attachment:image.png)"
   ]
  },
  {
   "attachments": {
    "image.png": {
     "image/png": "[encoded data removed]"
    }
   },
   "cell_type": "markdown",
   "metadata": {},
   "source": [
    "Para resolver este problema, necesitarás crear un perspron multicapa del siguiente tipo:\n",
    "\n",
    "![image.png](attachment:image.png)"
   ]
  },
  {
   "cell_type": "code",
   "execution_count": 4,
   "metadata": {},
   "outputs": [],
   "source": [
    "import torch\n",
    "from torch import nn\n",
    "from torchsummary import summary\n",
    "\n",
    "# Detect device\n",
    "tensor_device = torch.device('cuda') if torch.cuda.is_available() else torch.device('cpu') "
   ]
  },
  {
   "cell_type": "markdown",
   "metadata": {},
   "source": [
    "**Preparando datos de entrenamiento**"
   ]
  },
  {
   "cell_type": "code",
   "execution_count": 5,
   "metadata": {},
   "outputs": [],
   "source": [
    "data_train = [\n",
    "\t\t{ \"in\": [0, 0], \"out\": [0] },\n",
    "\t\t{ \"in\": [0, 1], \"out\": [1] },\n",
    "\t\t{ \"in\": [1, 0], \"out\": [1] },\n",
    "\t\t{ \"in\": [1, 1], \"out\": [0] },\n",
    "]\n",
    "\n",
    "# Esta es una serie de preguntas y respuestas correctas"
   ]
  },
  {
   "cell_type": "markdown",
   "metadata": {},
   "source": [
    "Hagamos dos operaciones de mapa que transformen la matriz *data_train* por separado en una matriz de preguntas y respuestas."
   ]
  },
  {
   "cell_type": "code",
   "execution_count": 6,
   "metadata": {},
   "outputs": [],
   "source": [
    "tensor_train_x = list(map(lambda item: item[\"in\"], data_train))\n",
    "tensor_train_y = list(map(lambda item: item[\"out\"], data_train))"
   ]
  },
  {
   "cell_type": "markdown",
   "metadata": {},
   "source": [
    "Convierta a un tensor float32 en tensor_device."
   ]
  },
  {
   "cell_type": "code",
   "execution_count": 7,
   "metadata": {},
   "outputs": [],
   "source": [
    "tensor_train_x = torch.tensor(tensor_train_x).to(torch.float32).to(tensor_device)\n",
    "tensor_train_y = torch.tensor(tensor_train_y).to(torch.float32).to(tensor_device)"
   ]
  },
  {
   "cell_type": "code",
   "execution_count": 8,
   "metadata": {},
   "outputs": [
    {
     "name": "stdout",
     "output_type": "stream",
     "text": [
      "Input:\n",
      "tensor([[0., 0.],\n",
      "        [0., 1.],\n",
      "        [1., 0.],\n",
      "        [1., 1.]])\n",
      "Shape: torch.Size([4, 2])\n",
      "\n",
      "Answers:\n",
      "tensor([[0.],\n",
      "        [1.],\n",
      "        [1.],\n",
      "        [0.]])\n",
      "Shape: torch.Size([4, 1])\n"
     ]
    }
   ],
   "source": [
    "print (\"Input:\")\n",
    "print (tensor_train_x)\n",
    "print (\"Shape:\", tensor_train_x.shape) # dimensión vectorial\n",
    "print (\"\")\n",
    "print (\"Answers:\")\n",
    "print (tensor_train_y)\n",
    "print (\"Shape:\", tensor_train_y.shape) # dimensión vectorial"
   ]
  },
  {
   "cell_type": "markdown",
   "metadata": {},
   "source": [
    "**Creando un modelo de red neuronal**"
   ]
  },
  {
   "attachments": {
    "image.png": {
     "image/png": "[encoded data removed]"
    }
   },
   "cell_type": "markdown",
   "metadata": {},
   "source": [
    "La arquitectura de la red neuronal será la siguiente.\n",
    "\n",
    "![image.png](attachment:image.png)"
   ]
  },
  {
   "cell_type": "markdown",
   "metadata": {},
   "source": [
    "Crea un modelo:"
   ]
  },
  {
   "cell_type": "code",
   "execution_count": 10,
   "metadata": {},
   "outputs": [
    {
     "name": "stdout",
     "output_type": "stream",
     "text": [
      "----------------------------------------------------------------\n",
      "        Layer (type)               Output Shape         Param #\n",
      "================================================================\n",
      "            Linear-1                   [-1, 16]              48\n",
      "              ReLU-2                   [-1, 16]               0\n",
      "            Linear-3                    [-1, 1]              17\n",
      "================================================================\n",
      "Total params: 65\n",
      "Trainable params: 65\n",
      "Non-trainable params: 0\n",
      "----------------------------------------------------------------\n",
      "Input size (MB): 0.00\n",
      "Forward/backward pass size (MB): 0.00\n",
      "Params size (MB): 0.00\n",
      "Estimated Total Size (MB): 0.00\n",
      "----------------------------------------------------------------\n"
     ]
    }
   ],
   "source": [
    "input_shape = 2\n",
    "output_shape = 1\n",
    "\n",
    "model = nn.Sequential(\n",
    "\tnn.Linear(input_shape, 16),\n",
    "\tnn.ReLU(),\n",
    "\tnn.Linear(16, output_shape)\n",
    ")\n",
    "\n",
    "summary(model, (input_shape,))"
   ]
  },
  {
   "cell_type": "markdown",
   "metadata": {},
   "source": [
    "Establezcamos parámetros de optimización para el modelo:"
   ]
  },
  {
   "cell_type": "code",
   "execution_count": 11,
   "metadata": {},
   "outputs": [],
   "source": [
    "# Adam optimizer\n",
    "optimizer = torch.optim.Adam(model.parameters(), lr=1e-3, betas=(0.9, 0.99))\n",
    "\n",
    "# mean squared error\n",
    "loss = nn.MSELoss()\n",
    "\n",
    "# Batch size\n",
    "batch_size = 2\n",
    "\n",
    "# Epochs\n",
    "epochs = 1000"
   ]
  },
  {
   "cell_type": "code",
   "execution_count": 12,
   "metadata": {},
   "outputs": [
    {
     "name": "stdout",
     "output_type": "stream",
     "text": [
      "----------------------------------------------------------------\n",
      "        Layer (type)               Output Shape         Param #\n",
      "================================================================\n",
      "            Linear-1                   [-1, 16]              48\n",
      "              ReLU-2                   [-1, 16]               0\n",
      "            Linear-3                    [-1, 1]              17\n",
      "================================================================\n",
      "Total params: 65\n",
      "Trainable params: 65\n",
      "Non-trainable params: 0\n",
      "----------------------------------------------------------------\n",
      "Input size (MB): 0.00\n",
      "Forward/backward pass size (MB): 0.00\n",
      "Params size (MB): 0.00\n",
      "Estimated Total Size (MB): 0.00\n",
      "----------------------------------------------------------------\n"
     ]
    }
   ],
   "source": [
    "summary(model, (input_shape,))"
   ]
  },
  {
   "cell_type": "markdown",
   "metadata": {},
   "source": [
    "**Entrenamiento de redes neuronales**"
   ]
  },
  {
   "cell_type": "code",
   "execution_count": 13,
   "metadata": {},
   "outputs": [
    {
     "name": "stdout",
     "output_type": "stream",
     "text": [
      "1,\t loss: 0.3002921938896179\n",
      "11,\t loss: 0.280201256275177\n",
      "21,\t loss: 0.2648681402206421\n",
      "31,\t loss: 0.25279533863067627\n",
      "41,\t loss: 0.24257561564445496\n",
      "51,\t loss: 0.23357096314430237\n",
      "61,\t loss: 0.2262974977493286\n",
      "71,\t loss: 0.21943429112434387\n",
      "81,\t loss: 0.21269060671329498\n",
      "91,\t loss: 0.206145778298378\n",
      "101,\t loss: 0.1997915357351303\n",
      "111,\t loss: 0.19371742010116577\n",
      "121,\t loss: 0.18767960369586945\n",
      "131,\t loss: 0.18162183463573456\n",
      "141,\t loss: 0.17554208636283875\n",
      "151,\t loss: 0.16935119032859802\n",
      "161,\t loss: 0.16306263208389282\n",
      "171,\t loss: 0.1566377729177475\n",
      "181,\t loss: 0.15009671449661255\n",
      "191,\t loss: 0.1434110701084137\n",
      "201,\t loss: 0.13657203316688538\n",
      "211,\t loss: 0.12959036231040955\n",
      "221,\t loss: 0.12253217399120331\n",
      "231,\t loss: 0.11537770926952362\n",
      "241,\t loss: 0.10826165974140167\n",
      "251,\t loss: 0.1011451706290245\n",
      "261,\t loss: 0.0940333753824234\n",
      "271,\t loss: 0.08700767159461975\n",
      "281,\t loss: 0.08012087643146515\n",
      "291,\t loss: 0.0734279453754425\n",
      "301,\t loss: 0.06690651178359985\n",
      "311,\t loss: 0.06061666086316109\n",
      "321,\t loss: 0.05453560873866081\n",
      "331,\t loss: 0.04868745058774948\n",
      "341,\t loss: 0.04316636919975281\n",
      "351,\t loss: 0.03799011930823326\n",
      "361,\t loss: 0.033105574548244476\n",
      "371,\t loss: 0.02857104316353798\n",
      "381,\t loss: 0.024410106241703033\n",
      "391,\t loss: 0.020710565149784088\n",
      "401,\t loss: 0.017547404393553734\n",
      "411,\t loss: 0.014736391603946686\n",
      "421,\t loss: 0.012259562499821186\n",
      "431,\t loss: 0.010118301957845688\n"
     ]
    }
   ],
   "source": [
    "history = []\n",
    "\n",
    "# Movamos el modelo al dispositivo\n",
    "model = model.to(tensor_device)\n",
    "\n",
    "for i in range(epochs):\n",
    "\t\n",
    "\t# Calculemos el resultado del modelo\n",
    "\tmodel_res = model(tensor_train_x)\n",
    "\t\n",
    "\t# Encontremos el valor de error entre la respuesta del modelo y las respuestas correctas\n",
    "\tloss_value = loss(model_res, tensor_train_y)\n",
    "\t\n",
    "\t# Agreguemos el valor del error al historial para mostrarlo más en el gráfico\n",
    "\tloss_value_item = loss_value.item()\n",
    "\thistory.append(loss_value_item)\n",
    "\t\n",
    "\t# Calculemos el gradiente\n",
    "\toptimizer.zero_grad()\n",
    "\tloss_value.backward()\n",
    "\t\n",
    "\t# Optimizamos\n",
    "\toptimizer.step()\n",
    "\t\n",
    "\t# Detenga el entrenamiento si el error es inferior a 0,01\n",
    "\tif loss_value_item < 0.01:\n",
    "\t\tbreak\n",
    "\t\n",
    "\t# Información de depuración\n",
    "\tif i % 10 == 0:\n",
    "\t\tprint (f\"{i+1},\\t loss: {loss_value_item}\")\n",
    "\t\n",
    "\t# Borrar el caché CUDA\n",
    "\tif torch.cuda.is_available():\n",
    "\t\ttorch.cuda.empty_cache()"
   ]
  },
  {
   "cell_type": "code",
   "execution_count": 15,
   "metadata": {},
   "outputs": [
    {
     "data": {
      "image/png": "[encoded data removed]",
      "text/plain": [
       "<Figure size 640x480 with 1 Axes>"
      ]
     },
     "metadata": {},
     "output_type": "display_data"
    }
   ],
   "source": [
    "import matplotlib.pyplot as plt\n",
    "\n",
    "plt.plot(history)\n",
    "plt.title('Loss')\n",
    "plt.show()"
   ]
  },
  {
   "cell_type": "markdown",
   "metadata": {},
   "source": [
    "**Implementación de una red neuronal**"
   ]
  },
  {
   "cell_type": "code",
   "execution_count": 20,
   "metadata": {},
   "outputs": [
    {
     "name": "stdout",
     "output_type": "stream",
     "text": [
      "Shape: torch.Size([4, 2])\n",
      "[0.0, 0.0] -> [0.0]\n",
      "[0.0, 1.0] -> [1.0]\n",
      "[1.0, 0.0] -> [1.0]\n",
      "[1.0, 1.0] -> [0.0]\n"
     ]
    }
   ],
   "source": [
    "control_x = [\n",
    "\t[0, 0],\n",
    "\t[0, 1],\n",
    "\t[1, 0],\n",
    "\t[1, 1],\n",
    "]\n",
    "\n",
    "control_x = torch.tensor(control_x).to(torch.float32).to(tensor_device)\n",
    "\n",
    "print (\"Shape:\", control_x.shape)\n",
    "\n",
    "answer = model( control_x )\n",
    "\n",
    "for i in range(len(answer)):\n",
    "\tprint(control_x[i].tolist(), \"->\", answer[i].round().tolist())"
   ]
  },
  {
   "cell_type": "markdown",
   "metadata": {},
   "source": [
    "Se puede observar que la red neuronal responde **correctamente**."
   ]
  }
 ],
 "metadata": {
  "kernelspec": {
   "display_name": "Python 3",
   "language": "python",
   "name": "python3"
  },
  "language_info": {
   "codemirror_mode": {
    "name": "ipython",
    "version": 3
   },
   "file_extension": ".py",
   "mimetype": "text/x-python",
   "name": "python",
   "nbconvert_exporter": "python",
   "pygments_lexer": "ipython3",
   "version": "3.11.8"
  }
 },
 "nbformat": 4,
 "nbformat_minor": 2
}
