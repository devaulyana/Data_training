{
 "cells": [
  {
   "cell_type": "code",
   "execution_count": 185,
   "metadata": {},
   "outputs": [
    {
     "data": {
      "text/plain": [
       "keras.src.engine.training.Model"
      ]
     },
     "execution_count": 185,
     "metadata": {},
     "output_type": "execute_result"
    }
   ],
   "source": [
    "import tensorflow as tf\n",
    "\n",
    "model = tf.keras.Model()\n",
    "type(model)"
   ]
  },
  {
   "cell_type": "code",
   "execution_count": 186,
   "metadata": {},
   "outputs": [
    {
     "data": {
      "text/plain": [
       "'`Model` groups layers into an object with training and inference features.'"
      ]
     },
     "execution_count": 186,
     "metadata": {},
     "output_type": "execute_result"
    }
   ],
   "source": [
    "tf.keras.Model\n",
    "\"`Model` groups layers into an object with training and inference features.\""
   ]
  },
  {
   "cell_type": "code",
   "execution_count": 187,
   "metadata": {},
   "outputs": [],
   "source": [
    "from tensorflow.keras.layers import Dense\n",
    "import numpy as np"
   ]
  },
  {
   "cell_type": "code",
   "execution_count": 188,
   "metadata": {},
   "outputs": [
    {
     "name": "stdout",
     "output_type": "stream",
     "text": [
      "Output: [[-1.248137]\n",
      " [-1.248137]\n",
      " [-1.248137]\n",
      " [-1.248137]]\n"
     ]
    }
   ],
   "source": [
    "x = np.ones((4, 3)) # 4 объекта, 3 признака\n",
    "\n",
    "dense_layer = Dense(units=1, input_shape=(3,))\n",
    "output = dense_layer(x)\n",
    "print(f\"Output: {output}\")"
   ]
  },
  {
   "cell_type": "code",
   "execution_count": 189,
   "metadata": {},
   "outputs": [
    {
     "name": "stdout",
     "output_type": "stream",
     "text": [
      "Weights: [[-0.68576187]\n",
      " [ 0.0592562 ]\n",
      " [-0.62163126]]\n",
      "Bias: [0.]\n"
     ]
    }
   ],
   "source": [
    "w, b = dense_layer.get_weights() \n",
    "print(f\"Weights: {w}\")\n",
    "print(f\"Bias: {b}\")"
   ]
  },
  {
   "cell_type": "code",
   "execution_count": 190,
   "metadata": {},
   "outputs": [
    {
     "name": "stdout",
     "output_type": "stream",
     "text": [
      "Manual output: [[-1.24813694]\n",
      " [-1.24813694]\n",
      " [-1.24813694]\n",
      " [-1.24813694]]\n"
     ]
    }
   ],
   "source": [
    "manual_output = np.matmul(x, w) + b\n",
    "print(f\"Manual output: {manual_output}\")"
   ]
  },
  {
   "cell_type": "code",
   "execution_count": 191,
   "metadata": {},
   "outputs": [
    {
     "name": "stdout",
     "output_type": "stream",
     "text": [
      "[array([[ 0.41404557],\n",
      "       [-0.5612636 ],\n",
      "       [ 0.2817384 ]], dtype=float32)]\n"
     ]
    }
   ],
   "source": [
    "x = np.ones((4, 3))\n",
    "dense_layer = Dense(1, input_shape=(3,), use_bias=False) # можно инициализировать слой без баеса\n",
    "output = dense_layer(x)\n",
    "print(dense_layer.get_weights())"
   ]
  },
  {
   "cell_type": "markdown",
   "metadata": {},
   "source": [
    "А как же нам \"прицепить\" один слой к другому? Самый простой способ это использовать класс **Sequential. Sequential** создает каркас модели, в который затем последовательно добавляются слой за слоем с помощью метода add."
   ]
  },
  {
   "cell_type": "code",
   "execution_count": 192,
   "metadata": {},
   "outputs": [],
   "source": [
    "model = tf.keras.Sequential()\n",
    "model.add(Dense(10, input_shape=(10,), activation=\"relu\")) # скрытый слой 1\n",
    "model.add(Dense(20, activation=\"relu\", \n",
    "                bias_initializer=tf.keras.initializers.Constant(2.0))) # скрытый слой 2, с не дефолтной инициализацией\n",
    "model.add(Dense(5, activation=\"softmax\")) # выходной слой"
   ]
  },
  {
   "cell_type": "code",
   "execution_count": 193,
   "metadata": {},
   "outputs": [
    {
     "name": "stdout",
     "output_type": "stream",
     "text": [
      "tf.Tensor(\n",
      "[[0.22621636 0.00677004 0.01112068 0.00767351 0.7482193 ]\n",
      " [0.19853427 0.00211369 0.00723868 0.00226792 0.78984547]], shape=(2, 5), dtype=float32)\n"
     ]
    }
   ],
   "source": [
    "sample_input = np.random.rand(2, 10)\n",
    "output = model(sample_input)\n",
    "\n",
    "print(output)"
   ]
  },
  {
   "cell_type": "code",
   "execution_count": 194,
   "metadata": {},
   "outputs": [
    {
     "name": "stdout",
     "output_type": "stream",
     "text": [
      "[0.9999999 1.       ]\n"
     ]
    }
   ],
   "source": [
    "print(output.numpy().sum(1)) # на выходе -- софтмакс, значит сумма == 1"
   ]
  },
  {
   "cell_type": "code",
   "execution_count": 195,
   "metadata": {},
   "outputs": [
    {
     "data": {
      "text/plain": [
       "array([2., 2., 2., 2., 2., 2., 2., 2., 2., 2., 2., 2., 2., 2., 2., 2., 2.,\n",
       "       2., 2., 2.], dtype=float32)"
      ]
     },
     "execution_count": 195,
     "metadata": {},
     "output_type": "execute_result"
    }
   ],
   "source": [
    "# проверим как инициализирован второй скрытый слой \n",
    "# для этого обратимся к нему с помощью:\n",
    "model.layers[1].get_weights()[1]"
   ]
  },
  {
   "cell_type": "code",
   "execution_count": 196,
   "metadata": {},
   "outputs": [
    {
     "name": "stdout",
     "output_type": "stream",
     "text": [
      "Model: \"sequential_19\"\n",
      "_________________________________________________________________\n",
      " Layer (type)                Output Shape              Param #   \n",
      "=================================================================\n",
      " dense_76 (Dense)            (None, 10)                110       \n",
      "                                                                 \n",
      " dense_77 (Dense)            (None, 20)                220       \n",
      "                                                                 \n",
      " dense_78 (Dense)            (None, 5)                 105       \n",
      "                                                                 \n",
      "=================================================================\n",
      "Total params: 435 (1.70 KB)\n",
      "Trainable params: 435 (1.70 KB)\n",
      "Non-trainable params: 0 (0.00 Byte)\n",
      "_________________________________________________________________\n"
     ]
    }
   ],
   "source": [
    "model.summary() # None обозначает, что размер батча может быть произвольный"
   ]
  },
  {
   "cell_type": "code",
   "execution_count": 197,
   "metadata": {},
   "outputs": [],
   "source": [
    "from tensorflow.keras.models import Sequential"
   ]
  },
  {
   "cell_type": "code",
   "execution_count": 198,
   "metadata": {},
   "outputs": [
    {
     "name": "stdout",
     "output_type": "stream",
     "text": [
      "Model: \"sequential_20\"\n",
      "_________________________________________________________________\n",
      " Layer (type)                Output Shape              Param #   \n",
      "=================================================================\n",
      " dense_79 (Dense)            (None, 10)                60        \n",
      "                                                                 \n",
      " dense_80 (Dense)            (None, 20)                220       \n",
      "                                                                 \n",
      " dense_81 (Dense)            (None, 5)                 105       \n",
      "                                                                 \n",
      "=================================================================\n",
      "Total params: 385 (1.50 KB)\n",
      "Trainable params: 385 (1.50 KB)\n",
      "Non-trainable params: 0 (0.00 Byte)\n",
      "_________________________________________________________________\n"
     ]
    }
   ],
   "source": [
    "# если не указать размер инпута в первом слое, то summary не сработает\n",
    "model_no_input = tf.keras.Sequential()\n",
    "model_no_input.add(Dense(10, activation=\"relu\")) # скрытый слой 1 \n",
    "model_no_input.add(Dense(20, activation=\"relu\"))\n",
    "model_no_input.add(Dense(5, activation=\"softmax\")) # выходной слой\n",
    "\n",
    "model_no_input.build(input_shape=(None, 5))\n",
    "\n",
    "model_no_input.summary() # None обозначает, что размер батча может быть произвольный"
   ]
  },
  {
   "cell_type": "code",
   "execution_count": 199,
   "metadata": {},
   "outputs": [
    {
     "name": "stdout",
     "output_type": "stream",
     "text": [
      "You must install pydot (`pip install pydot`) and install graphviz (see instructions at https://graphviz.gitlab.io/download/) for plot_model to work.\n"
     ]
    }
   ],
   "source": [
    "from tensorflow.keras.utils import plot_model\n",
    "\n",
    "plot_model(model, show_shapes=True)\n"
   ]
  },
  {
   "cell_type": "code",
   "execution_count": 200,
   "metadata": {},
   "outputs": [
    {
     "name": "stdout",
     "output_type": "stream",
     "text": [
      "You must install pydot (`pip install pydot`) and install graphviz (see instructions at https://graphviz.gitlab.io/download/) for plot_model to work.\n"
     ]
    }
   ],
   "source": [
    "# cпециальный Инпут слой, показывает keras куда \"положить\" данные при использовании модели\n",
    "input_layer = tf.keras.layers.Input(shape=(10, ), name=\"Input\") \n",
    "l1 = Dense(10, name=\"Layer1\") # определили первый слой\n",
    "l1_output = l1(input_layer) # соеденили его с инпутом, \"нарисовали\" самую правую стрелку на картинке выше\n",
    "\n",
    "l2_output = Dense(10, name=\"Layer2\")(input_layer) # дальше будем определять чуть компактнее\n",
    "l3_output = Dense(10, name=\"Layer3\")(l2_output)\n",
    "l4_output = Dense(10, name=\"Layer4\")(l3_output)\n",
    "\n",
    "l5_output = Dense(10, name=\"Layer5\")(l2_output)\n",
    "\n",
    "# специальный слой, который сложит выходы всех слоев, которые ему передали\n",
    "sum_output = tf.keras.layers.Add(name=\"SumLayer\")([l1_output, l4_output, l5_output])\n",
    "\n",
    "# выходной слой\n",
    "output = Dense(10, name=\"Output\")(sum_output)\n",
    "\n",
    "# создаем модель. нужно показать что мы считаем входом в нашу модель, а что выходом.\n",
    "model = tf.keras.Model(inputs=input_layer, outputs=output)\n",
    "\n",
    "tf.keras.utils.plot_model(model, show_shapes=False)"
   ]
  },
  {
   "cell_type": "code",
   "execution_count": 201,
   "metadata": {},
   "outputs": [
    {
     "name": "stdout",
     "output_type": "stream",
     "text": [
      "Model: \"model_13\"\n",
      "__________________________________________________________________________________________________\n",
      " Layer (type)                Output Shape                 Param #   Connected to                  \n",
      "==================================================================================================\n",
      " Input (InputLayer)          [(None, 10)]                 0         []                            \n",
      "                                                                                                  \n",
      " Layer2 (Dense)              (None, 10)                   110       ['Input[0][0]']               \n",
      "                                                                                                  \n",
      " Layer3 (Dense)              (None, 10)                   110       ['Layer2[0][0]']              \n",
      "                                                                                                  \n",
      " Layer1 (Dense)              (None, 10)                   110       ['Input[0][0]']               \n",
      "                                                                                                  \n",
      " Layer4 (Dense)              (None, 10)                   110       ['Layer3[0][0]']              \n",
      "                                                                                                  \n",
      " Layer5 (Dense)              (None, 10)                   110       ['Layer2[0][0]']              \n",
      "                                                                                                  \n",
      " SumLayer (Add)              (None, 10)                   0         ['Layer1[0][0]',              \n",
      "                                                                     'Layer4[0][0]',              \n",
      "                                                                     'Layer5[0][0]']              \n",
      "                                                                                                  \n",
      " Output (Dense)              (None, 10)                   110       ['SumLayer[0][0]']            \n",
      "                                                                                                  \n",
      "==================================================================================================\n",
      "Total params: 660 (2.58 KB)\n",
      "Trainable params: 660 (2.58 KB)\n",
      "Non-trainable params: 0 (0.00 Byte)\n",
      "__________________________________________________________________________________________________\n"
     ]
    }
   ],
   "source": [
    "model.summary()"
   ]
  },
  {
   "cell_type": "code",
   "execution_count": 202,
   "metadata": {},
   "outputs": [
    {
     "name": "stdout",
     "output_type": "stream",
     "text": [
      "tf.Tensor(0.16442041406050512, shape=(), dtype=float64)\n"
     ]
    }
   ],
   "source": [
    "y_true = np.random.rand(10)\n",
    "y_pred = np.random.rand(10)\n",
    "\n",
    "# MSE\n",
    "# лосс функция принимает предсказанные значение и реальные, и возвращает значение, которое в идеале должно быть близко к 0 -- все просто\n",
    "print(tf.keras.losses.MSE(y_true=y_true, y_pred=y_pred))"
   ]
  },
  {
   "cell_type": "code",
   "execution_count": 203,
   "metadata": {},
   "outputs": [
    {
     "name": "stdout",
     "output_type": "stream",
     "text": [
      "0.16442041406050512\n"
     ]
    }
   ],
   "source": [
    "# Можно проверить, правильно ли MSE реализована в Keras :)\n",
    "print(np.mean((y_true - y_pred)**2))"
   ]
  },
  {
   "cell_type": "code",
   "execution_count": 204,
   "metadata": {},
   "outputs": [
    {
     "name": "stdout",
     "output_type": "stream",
     "text": [
      "tf.Tensor(0.0, shape=(), dtype=float64)\n",
      "tf.Tensor(0.0, shape=(), dtype=float64)\n"
     ]
    }
   ],
   "source": [
    "# BCE\n",
    "\n",
    "print(tf.keras.losses.binary_crossentropy(np.ones(10), np.ones(10)))\n",
    "\n",
    "loss = tf.keras.losses.BinaryCrossentropy()\n",
    "print(loss(np.ones(10), np.ones(10)))"
   ]
  },
  {
   "cell_type": "code",
   "execution_count": 205,
   "metadata": {},
   "outputs": [
    {
     "data": {
      "text/plain": [
       "(keras.src.optimizers.adam.Adam,\n",
       " <keras.src.optimizers.sgd.SGD at 0x260f5045f10>)"
      ]
     },
     "execution_count": 205,
     "metadata": {},
     "output_type": "execute_result"
    }
   ],
   "source": [
    "tf.keras.optimizers.Adam, tf.keras.optimizers.SGD()"
   ]
  },
  {
   "cell_type": "code",
   "execution_count": 206,
   "metadata": {},
   "outputs": [
    {
     "name": "stdout",
     "output_type": "stream",
     "text": [
      "2.15.0\n"
     ]
    }
   ],
   "source": [
    "import tensorflow as tf\n",
    "import numpy as np\n",
    "\n",
    "print(tf.__version__)\n",
    "\n",
    "# определим наш скромный датасет\n",
    "celsius = np.array([-10, -40, 10, 20, 36, 5, -12, 14, 36]).astype(np.float32)\n",
    "fahrenheit = np.array([14., -40., 50., 68., 96.8, 41., 10.4, 57.2, 96.8])"
   ]
  },
  {
   "cell_type": "code",
   "execution_count": 207,
   "metadata": {},
   "outputs": [],
   "source": [
    "model = tf.keras.Sequential() # модель состоит из одного слоя с одним выходом и входом.\n",
    "model.add(tf.keras.layers.Dense(1, input_shape=(1,)))\n",
    "\n",
    "optimizer = tf.keras.optimizers.Adam(learning_rate=0.5) \n",
    "loss = tf.keras.losses.MSE"
   ]
  },
  {
   "cell_type": "code",
   "execution_count": 208,
   "metadata": {},
   "outputs": [],
   "source": [
    "# cледующий шаг -- компиляция модели: \"связываем\" модель, оптимайзер и лосс\n",
    "model.compile(optimizer=optimizer, loss=loss) "
   ]
  },
  {
   "cell_type": "code",
   "execution_count": 209,
   "metadata": {},
   "outputs": [
    {
     "name": "stdout",
     "output_type": "stream",
     "text": [
      "Epoch 1/100\n"
     ]
    },
    {
     "name": "stdout",
     "output_type": "stream",
     "text": [
      "1/1 - 0s - loss: 2785.6550 - 428ms/epoch - 428ms/step\n",
      "Epoch 2/100\n",
      "1/1 - 0s - loss: 1864.7257 - 4ms/epoch - 4ms/step\n",
      "Epoch 3/100\n",
      "1/1 - 0s - loss: 1247.2356 - 5ms/epoch - 5ms/step\n",
      "Epoch 4/100\n",
      "1/1 - 0s - loss: 919.9918 - 0s/epoch - 0s/step\n",
      "Epoch 5/100\n",
      "1/1 - 0s - loss: 839.1968 - 9ms/epoch - 9ms/step\n",
      "Epoch 6/100\n",
      "1/1 - 0s - loss: 920.4845 - 8ms/epoch - 8ms/step\n",
      "Epoch 7/100\n",
      "1/1 - 0s - loss: 1053.8882 - 0s/epoch - 0s/step\n",
      "Epoch 8/100\n",
      "1/1 - 0s - loss: 1147.2869 - 0s/epoch - 0s/step\n",
      "Epoch 9/100\n",
      "1/1 - 0s - loss: 1158.8638 - 16ms/epoch - 16ms/step\n",
      "Epoch 10/100\n",
      "1/1 - 0s - loss: 1092.6711 - 3ms/epoch - 3ms/step\n",
      "Epoch 11/100\n",
      "1/1 - 0s - loss: 976.7903 - 4ms/epoch - 4ms/step\n",
      "Epoch 12/100\n",
      "1/1 - 0s - loss: 845.1835 - 10ms/epoch - 10ms/step\n",
      "Epoch 13/100\n",
      "1/1 - 0s - loss: 727.2849 - 30ms/epoch - 30ms/step\n",
      "Epoch 14/100\n",
      "1/1 - 0s - loss: 642.7022 - 3ms/epoch - 3ms/step\n",
      "Epoch 15/100\n",
      "1/1 - 0s - loss: 598.8863 - 4ms/epoch - 4ms/step\n",
      "Epoch 16/100\n",
      "1/1 - 0s - loss: 591.2533 - 3ms/epoch - 3ms/step\n",
      "Epoch 17/100\n",
      "1/1 - 0s - loss: 606.0134 - 5ms/epoch - 5ms/step\n",
      "Epoch 18/100\n",
      "1/1 - 0s - loss: 625.4381 - 5ms/epoch - 5ms/step\n",
      "Epoch 19/100\n",
      "1/1 - 0s - loss: 633.9363 - 4ms/epoch - 4ms/step\n",
      "Epoch 20/100\n",
      "1/1 - 0s - loss: 622.5795 - 4ms/epoch - 4ms/step\n",
      "Epoch 21/100\n",
      "1/1 - 0s - loss: 590.5577 - 3ms/epoch - 3ms/step\n",
      "Epoch 22/100\n",
      "1/1 - 0s - loss: 543.7395 - 3ms/epoch - 3ms/step\n",
      "Epoch 23/100\n",
      "1/1 - 0s - loss: 491.5887 - 4ms/epoch - 4ms/step\n",
      "Epoch 24/100\n",
      "1/1 - 0s - loss: 443.7610 - 4ms/epoch - 4ms/step\n",
      "Epoch 25/100\n",
      "1/1 - 0s - loss: 407.3065 - 3ms/epoch - 3ms/step\n",
      "Epoch 26/100\n",
      "1/1 - 0s - loss: 385.0162 - 3ms/epoch - 3ms/step\n",
      "Epoch 27/100\n",
      "1/1 - 0s - loss: 375.1766 - 0s/epoch - 0s/step\n",
      "Epoch 28/100\n",
      "1/1 - 0s - loss: 372.6953 - 0s/epoch - 0s/step\n",
      "Epoch 29/100\n",
      "1/1 - 0s - loss: 371.1749 - 17ms/epoch - 17ms/step\n",
      "Epoch 30/100\n",
      "1/1 - 0s - loss: 365.1719 - 4ms/epoch - 4ms/step\n",
      "Epoch 31/100\n",
      "1/1 - 0s - loss: 351.8309 - 3ms/epoch - 3ms/step\n",
      "Epoch 32/100\n",
      "1/1 - 0s - loss: 331.4003 - 5ms/epoch - 5ms/step\n",
      "Epoch 33/100\n",
      "1/1 - 0s - loss: 306.6354 - 4ms/epoch - 4ms/step\n",
      "Epoch 34/100\n",
      "1/1 - 0s - loss: 281.4809 - 4ms/epoch - 4ms/step\n",
      "Epoch 35/100\n",
      "1/1 - 0s - loss: 259.5786 - 3ms/epoch - 3ms/step\n",
      "Epoch 36/100\n",
      "1/1 - 0s - loss: 243.0974 - 4ms/epoch - 4ms/step\n",
      "Epoch 37/100\n",
      "1/1 - 0s - loss: 232.2114 - 4ms/epoch - 4ms/step\n",
      "Epoch 38/100\n",
      "1/1 - 0s - loss: 225.3199 - 5ms/epoch - 5ms/step\n",
      "Epoch 39/100\n",
      "1/1 - 0s - loss: 219.8570 - 4ms/epoch - 4ms/step\n",
      "Epoch 40/100\n",
      "1/1 - 0s - loss: 213.3395 - 5ms/epoch - 5ms/step\n",
      "Epoch 41/100\n",
      "1/1 - 0s - loss: 204.2435 - 6ms/epoch - 6ms/step\n",
      "Epoch 42/100\n",
      "1/1 - 0s - loss: 192.4050 - 3ms/epoch - 3ms/step\n",
      "Epoch 43/100\n",
      "1/1 - 0s - loss: 178.8629 - 2ms/epoch - 2ms/step\n",
      "Epoch 44/100\n",
      "1/1 - 0s - loss: 165.2841 - 4ms/epoch - 4ms/step\n",
      "Epoch 45/100\n",
      "1/1 - 0s - loss: 153.2431 - 0s/epoch - 0s/step\n",
      "Epoch 46/100\n",
      "1/1 - 0s - loss: 143.6417 - 0s/epoch - 0s/step\n",
      "Epoch 47/100\n",
      "1/1 - 0s - loss: 136.4637 - 6ms/epoch - 6ms/step\n",
      "Epoch 48/100\n",
      "1/1 - 0s - loss: 130.9144 - 4ms/epoch - 4ms/step\n",
      "Epoch 49/100\n",
      "1/1 - 0s - loss: 125.8415 - 5ms/epoch - 5ms/step\n",
      "Epoch 50/100\n",
      "1/1 - 0s - loss: 120.2357 - 5ms/epoch - 5ms/step\n",
      "Epoch 51/100\n",
      "1/1 - 0s - loss: 113.6031 - 4ms/epoch - 4ms/step\n",
      "Epoch 52/100\n",
      "1/1 - 0s - loss: 106.0763 - 4ms/epoch - 4ms/step\n",
      "Epoch 53/100\n",
      "1/1 - 0s - loss: 98.2575 - 30ms/epoch - 30ms/step\n",
      "Epoch 54/100\n",
      "1/1 - 0s - loss: 90.8961 - 15ms/epoch - 15ms/step\n",
      "Epoch 55/100\n",
      "1/1 - 0s - loss: 84.5547 - 4ms/epoch - 4ms/step\n",
      "Epoch 56/100\n",
      "1/1 - 0s - loss: 79.4022 - 3ms/epoch - 3ms/step\n",
      "Epoch 57/100\n",
      "1/1 - 0s - loss: 75.2006 - 0s/epoch - 0s/step\n",
      "Epoch 58/100\n",
      "1/1 - 0s - loss: 71.4641 - 15ms/epoch - 15ms/step\n",
      "Epoch 59/100\n",
      "1/1 - 0s - loss: 67.6998 - 5ms/epoch - 5ms/step\n",
      "Epoch 60/100\n",
      "1/1 - 0s - loss: 63.6152 - 5ms/epoch - 5ms/step\n",
      "Epoch 61/100\n",
      "1/1 - 0s - loss: 59.2077 - 8ms/epoch - 8ms/step\n",
      "Epoch 62/100\n",
      "1/1 - 0s - loss: 54.7155 - 3ms/epoch - 3ms/step\n",
      "Epoch 63/100\n",
      "1/1 - 0s - loss: 50.4699 - 0s/epoch - 0s/step\n",
      "Epoch 64/100\n",
      "1/1 - 0s - loss: 46.7305 - 4ms/epoch - 4ms/step\n",
      "Epoch 65/100\n",
      "1/1 - 0s - loss: 43.5777 - 3ms/epoch - 3ms/step\n",
      "Epoch 66/100\n",
      "1/1 - 0s - loss: 40.9006 - 8ms/epoch - 8ms/step\n",
      "Epoch 67/100\n",
      "1/1 - 0s - loss: 38.4751 - 4ms/epoch - 4ms/step\n",
      "Epoch 68/100\n",
      "1/1 - 0s - loss: 36.0795 - 4ms/epoch - 4ms/step\n",
      "Epoch 69/100\n",
      "1/1 - 0s - loss: 33.5925 - 3ms/epoch - 3ms/step\n",
      "Epoch 70/100\n",
      "1/1 - 0s - loss: 31.0290 - 5ms/epoch - 5ms/step\n",
      "Epoch 71/100\n",
      "1/1 - 0s - loss: 28.5074 - 0s/epoch - 0s/step\n",
      "Epoch 72/100\n",
      "1/1 - 0s - loss: 26.1737 - 13ms/epoch - 13ms/step\n",
      "Epoch 73/100\n",
      "1/1 - 0s - loss: 24.1251 - 6ms/epoch - 6ms/step\n",
      "Epoch 74/100\n",
      "1/1 - 0s - loss: 22.3685 - 3ms/epoch - 3ms/step\n",
      "Epoch 75/100\n",
      "1/1 - 0s - loss: 20.8289 - 5ms/epoch - 5ms/step\n",
      "Epoch 76/100\n",
      "1/1 - 0s - loss: 19.3959 - 5ms/epoch - 5ms/step\n",
      "Epoch 77/100\n",
      "1/1 - 0s - loss: 17.9799 - 3ms/epoch - 3ms/step\n",
      "Epoch 78/100\n",
      "1/1 - 0s - loss: 16.5499 - 2ms/epoch - 2ms/step\n",
      "Epoch 79/100\n",
      "1/1 - 0s - loss: 15.1355 - 4ms/epoch - 4ms/step\n",
      "Epoch 80/100\n",
      "1/1 - 0s - loss: 13.8002 - 4ms/epoch - 4ms/step\n",
      "Epoch 81/100\n",
      "1/1 - 0s - loss: 12.6011 - 5ms/epoch - 5ms/step\n",
      "Epoch 82/100\n",
      "1/1 - 0s - loss: 11.5591 - 4ms/epoch - 4ms/step\n",
      "Epoch 83/100\n",
      "1/1 - 0s - loss: 10.6520 - 3ms/epoch - 3ms/step\n",
      "Epoch 84/100\n",
      "1/1 - 0s - loss: 9.8305 - 4ms/epoch - 4ms/step\n",
      "Epoch 85/100\n",
      "1/1 - 0s - loss: 9.0457 - 2ms/epoch - 2ms/step\n",
      "Epoch 86/100\n",
      "1/1 - 0s - loss: 8.2719 - 5ms/epoch - 5ms/step\n",
      "Epoch 87/100\n",
      "1/1 - 0s - loss: 7.5137 - 1ms/epoch - 1ms/step\n",
      "Epoch 88/100\n",
      "1/1 - 0s - loss: 6.7969 - 3ms/epoch - 3ms/step\n",
      "Epoch 89/100\n",
      "1/1 - 0s - loss: 6.1491 - 4ms/epoch - 4ms/step\n",
      "Epoch 90/100\n",
      "1/1 - 0s - loss: 5.5835 - 10ms/epoch - 10ms/step\n",
      "Epoch 91/100\n",
      "1/1 - 0s - loss: 5.0924 - 30ms/epoch - 30ms/step\n",
      "Epoch 92/100\n",
      "1/1 - 0s - loss: 4.6533 - 3ms/epoch - 3ms/step\n",
      "Epoch 93/100\n",
      "1/1 - 0s - loss: 4.2417 - 2ms/epoch - 2ms/step\n",
      "Epoch 94/100\n",
      "1/1 - 0s - loss: 3.8431 - 11ms/epoch - 11ms/step\n",
      "Epoch 95/100\n",
      "1/1 - 0s - loss: 3.4578 - 4ms/epoch - 4ms/step\n",
      "Epoch 96/100\n",
      "1/1 - 0s - loss: 3.0967 - 3ms/epoch - 3ms/step\n",
      "Epoch 97/100\n",
      "1/1 - 0s - loss: 2.7723 - 3ms/epoch - 3ms/step\n",
      "Epoch 98/100\n",
      "1/1 - 0s - loss: 2.4905 - 0s/epoch - 0s/step\n",
      "Epoch 99/100\n",
      "1/1 - 0s - loss: 2.2472 - 6ms/epoch - 6ms/step\n",
      "Epoch 100/100\n",
      "1/1 - 0s - loss: 2.0310 - 5ms/epoch - 5ms/step\n"
     ]
    }
   ],
   "source": [
    "history = model.fit(celsius, fahrenheit, epochs=100, verbose=2)"
   ]
  },
  {
   "cell_type": "code",
   "execution_count": 210,
   "metadata": {},
   "outputs": [
    {
     "data": {
      "text/plain": [
       "[array([[1.8239594]], dtype=float32), array([30.607626], dtype=float32)]"
      ]
     },
     "execution_count": 210,
     "metadata": {},
     "output_type": "execute_result"
    }
   ],
   "source": [
    "model.get_weights()"
   ]
  },
  {
   "cell_type": "code",
   "execution_count": 211,
   "metadata": {},
   "outputs": [
    {
     "data": {
      "text/html": [
       "<div>\n",
       "<style scoped>\n",
       "    .dataframe tbody tr th:only-of-type {\n",
       "        vertical-align: middle;\n",
       "    }\n",
       "\n",
       "    .dataframe tbody tr th {\n",
       "        vertical-align: top;\n",
       "    }\n",
       "\n",
       "    .dataframe thead th {\n",
       "        text-align: right;\n",
       "    }\n",
       "</style>\n",
       "<table border=\"1\" class=\"dataframe\">\n",
       "  <thead>\n",
       "    <tr style=\"text-align: right;\">\n",
       "      <th></th>\n",
       "      <th>loss</th>\n",
       "    </tr>\n",
       "  </thead>\n",
       "  <tbody>\n",
       "    <tr>\n",
       "      <th>0</th>\n",
       "      <td>2785.655029</td>\n",
       "    </tr>\n",
       "    <tr>\n",
       "      <th>1</th>\n",
       "      <td>1864.725708</td>\n",
       "    </tr>\n",
       "    <tr>\n",
       "      <th>2</th>\n",
       "      <td>1247.235596</td>\n",
       "    </tr>\n",
       "    <tr>\n",
       "      <th>3</th>\n",
       "      <td>919.991760</td>\n",
       "    </tr>\n",
       "    <tr>\n",
       "      <th>4</th>\n",
       "      <td>839.196777</td>\n",
       "    </tr>\n",
       "  </tbody>\n",
       "</table>\n",
       "</div>"
      ],
      "text/plain": [
       "          loss\n",
       "0  2785.655029\n",
       "1  1864.725708\n",
       "2  1247.235596\n",
       "3   919.991760\n",
       "4   839.196777"
      ]
     },
     "execution_count": 211,
     "metadata": {},
     "output_type": "execute_result"
    }
   ],
   "source": [
    "import pandas as pd\n",
    "history_df = pd.DataFrame(history.history)\n",
    "history_df.head()"
   ]
  },
  {
   "cell_type": "code",
   "execution_count": 212,
   "metadata": {},
   "outputs": [
    {
     "data": {
      "text/plain": [
       "[<matplotlib.lines.Line2D at 0x260f501cb90>]"
      ]
     },
     "execution_count": 212,
     "metadata": {},
     "output_type": "execute_result"
    },
    {
     "data": {
      "image/png": "[encoded data removed]",
      "text/plain": [
       "<Figure size 640x480 with 1 Axes>"
      ]
     },
     "metadata": {},
     "output_type": "display_data"
    }
   ],
   "source": [
    "import matplotlib.pyplot as plt\n",
    "plt.plot(history_df.loss)"
   ]
  },
  {
   "cell_type": "code",
   "execution_count": 214,
   "metadata": {},
   "outputs": [
    {
     "data": {
      "image/png": "[encoded data removed]",
      "text/plain": [
       "<Figure size 640x480 with 1 Axes>"
      ]
     },
     "metadata": {},
     "output_type": "display_data"
    }
   ],
   "source": [
    "import matplotlib.pyplot as plt\n",
    "\n",
    "def show_data(X, y):\n",
    "    plt.scatter(X[:, 0], X[:, 1], c=y, cmap=plt.cm.coolwarm)\n",
    "    plt.xlabel('Feature 1')\n",
    "    plt.ylabel('Feature 2')\n",
    "    plt.title('Scatter Plot of Data')\n",
    "    plt.show()\n",
    "\n",
    "X = np.array([[10, 6], [7, 4], [6, 6], [9, 8], [10, 10],\n",
    "              [10, 4], [4, 4], [4, 6], [8, 9]])\n",
    "y = np.array([0, 1, 0, 0, 0, 1, 1, 1, 1])\n",
    "\n",
    "show_data(X, y)\n"
   ]
  },
  {
   "cell_type": "code",
   "execution_count": 215,
   "metadata": {},
   "outputs": [],
   "source": [
    "model = tf.keras.Sequential()\n",
    "model.add(tf.keras.layers.Dense(4, input_shape=(2,), activation=\"sigmoid\"))\n",
    "model.add(tf.keras.layers.Dense(1)) # мы хотим визуализировать логиты, поэтому без активации\n",
    "\n",
    "optimizer = tf.keras.optimizers.Adam(learning_rate=0.05) \n",
    "loss = tf.keras.losses.BinaryCrossentropy(from_logits=True) # лосс -- с логитами"
   ]
  },
  {
   "cell_type": "code",
   "execution_count": 216,
   "metadata": {},
   "outputs": [
    {
     "name": "stdout",
     "output_type": "stream",
     "text": [
      "Epoch 1/100\n",
      "WARNING:tensorflow:From C:\\Users\\Ульяна\\AppData\\Roaming\\Python\\Python311\\site-packages\\keras\\src\\engine\\base_layer_utils.py:384: The name tf.executing_eagerly_outside_functions is deprecated. Please use tf.compat.v1.executing_eagerly_outside_functions instead.\n",
      "\n",
      "1/1 - 1s - loss: 1.0705 - accuracy: 0.4444 - 783ms/epoch - 783ms/step\n",
      "Epoch 2/100\n",
      "1/1 - 0s - loss: 0.9665 - accuracy: 0.4444 - 5ms/epoch - 5ms/step\n",
      "Epoch 3/100\n",
      "1/1 - 0s - loss: 0.8804 - accuracy: 0.4444 - 4ms/epoch - 4ms/step\n",
      "Epoch 4/100\n",
      "1/1 - 0s - loss: 0.8155 - accuracy: 0.4444 - 4ms/epoch - 4ms/step\n",
      "Epoch 5/100\n",
      "1/1 - 0s - loss: 0.7683 - accuracy: 0.4444 - 6ms/epoch - 6ms/step\n",
      "Epoch 6/100\n",
      "1/1 - 0s - loss: 0.7345 - accuracy: 0.4444 - 4ms/epoch - 4ms/step\n",
      "Epoch 7/100\n",
      "1/1 - 0s - loss: 0.7107 - accuracy: 0.4444 - 6ms/epoch - 6ms/step\n",
      "Epoch 8/100\n",
      "1/1 - 0s - loss: 0.6944 - accuracy: 0.4444 - 3ms/epoch - 3ms/step\n",
      "Epoch 9/100\n",
      "1/1 - 0s - loss: 0.6839 - accuracy: 0.4444 - 5ms/epoch - 5ms/step\n",
      "Epoch 10/100\n",
      "1/1 - 0s - loss: 0.6777 - accuracy: 0.4444 - 6ms/epoch - 6ms/step\n",
      "Epoch 11/100\n",
      "1/1 - 0s - loss: 0.6756 - accuracy: 0.6667 - 5ms/epoch - 5ms/step\n",
      "Epoch 12/100\n",
      "1/1 - 0s - loss: 0.6795 - accuracy: 0.7778 - 5ms/epoch - 5ms/step\n",
      "Epoch 13/100\n",
      "1/1 - 0s - loss: 0.6861 - accuracy: 0.5556 - 5ms/epoch - 5ms/step\n",
      "Epoch 14/100\n",
      "1/1 - 0s - loss: 0.6902 - accuracy: 0.5556 - 5ms/epoch - 5ms/step\n",
      "Epoch 15/100\n",
      "1/1 - 0s - loss: 0.6897 - accuracy: 0.5556 - 7ms/epoch - 7ms/step\n",
      "Epoch 16/100\n",
      "1/1 - 0s - loss: 0.6868 - accuracy: 0.5556 - 5ms/epoch - 5ms/step\n",
      "Epoch 17/100\n",
      "1/1 - 0s - loss: 0.6837 - accuracy: 0.5556 - 6ms/epoch - 6ms/step\n",
      "Epoch 18/100\n",
      "1/1 - 0s - loss: 0.6810 - accuracy: 0.5556 - 4ms/epoch - 4ms/step\n",
      "Epoch 19/100\n",
      "1/1 - 0s - loss: 0.6784 - accuracy: 0.8889 - 3ms/epoch - 3ms/step\n",
      "Epoch 20/100\n",
      "1/1 - 0s - loss: 0.6756 - accuracy: 0.6667 - 5ms/epoch - 5ms/step\n",
      "Epoch 21/100\n",
      "1/1 - 0s - loss: 0.6725 - accuracy: 0.6667 - 4ms/epoch - 4ms/step\n",
      "Epoch 22/100\n",
      "1/1 - 0s - loss: 0.6691 - accuracy: 0.6667 - 5ms/epoch - 5ms/step\n",
      "Epoch 23/100\n",
      "1/1 - 0s - loss: 0.6652 - accuracy: 0.6667 - 5ms/epoch - 5ms/step\n",
      "Epoch 24/100\n",
      "1/1 - 0s - loss: 0.6606 - accuracy: 0.6667 - 5ms/epoch - 5ms/step\n",
      "Epoch 25/100\n",
      "1/1 - 0s - loss: 0.6551 - accuracy: 0.6667 - 4ms/epoch - 4ms/step\n",
      "Epoch 26/100\n",
      "1/1 - 0s - loss: 0.6488 - accuracy: 0.6667 - 5ms/epoch - 5ms/step\n",
      "Epoch 27/100\n",
      "1/1 - 0s - loss: 0.6421 - accuracy: 0.6667 - 5ms/epoch - 5ms/step\n",
      "Epoch 28/100\n",
      "1/1 - 0s - loss: 0.6369 - accuracy: 0.5556 - 5ms/epoch - 5ms/step\n",
      "Epoch 29/100\n",
      "1/1 - 0s - loss: 0.6344 - accuracy: 0.5556 - 6ms/epoch - 6ms/step\n",
      "Epoch 30/100\n",
      "1/1 - 0s - loss: 0.6321 - accuracy: 0.5556 - 3ms/epoch - 3ms/step\n",
      "Epoch 31/100\n",
      "1/1 - 0s - loss: 0.6269 - accuracy: 0.5556 - 4ms/epoch - 4ms/step\n",
      "Epoch 32/100\n",
      "1/1 - 0s - loss: 0.6209 - accuracy: 0.5556 - 4ms/epoch - 4ms/step\n",
      "Epoch 33/100\n",
      "1/1 - 0s - loss: 0.6173 - accuracy: 0.6667 - 0s/epoch - 0s/step\n",
      "Epoch 34/100\n",
      "1/1 - 0s - loss: 0.6153 - accuracy: 0.6667 - 26ms/epoch - 26ms/step\n",
      "Epoch 35/100\n",
      "1/1 - 0s - loss: 0.6124 - accuracy: 0.6667 - 2ms/epoch - 2ms/step\n",
      "Epoch 36/100\n",
      "1/1 - 0s - loss: 0.6075 - accuracy: 0.6667 - 4ms/epoch - 4ms/step\n",
      "Epoch 37/100\n",
      "1/1 - 0s - loss: 0.6020 - accuracy: 0.6667 - 11ms/epoch - 11ms/step\n",
      "Epoch 38/100\n",
      "1/1 - 0s - loss: 0.5984 - accuracy: 0.5556 - 4ms/epoch - 4ms/step\n",
      "Epoch 39/100\n",
      "1/1 - 0s - loss: 0.5964 - accuracy: 0.5556 - 5ms/epoch - 5ms/step\n",
      "Epoch 40/100\n",
      "1/1 - 0s - loss: 0.5922 - accuracy: 0.5556 - 6ms/epoch - 6ms/step\n",
      "Epoch 41/100\n",
      "1/1 - 0s - loss: 0.5870 - accuracy: 0.6667 - 4ms/epoch - 4ms/step\n",
      "Epoch 42/100\n",
      "1/1 - 0s - loss: 0.5833 - accuracy: 0.6667 - 6ms/epoch - 6ms/step\n",
      "Epoch 43/100\n",
      "1/1 - 0s - loss: 0.5802 - accuracy: 0.6667 - 4ms/epoch - 4ms/step\n",
      "Epoch 44/100\n",
      "1/1 - 0s - loss: 0.5758 - accuracy: 0.6667 - 4ms/epoch - 4ms/step\n",
      "Epoch 45/100\n",
      "1/1 - 0s - loss: 0.5707 - accuracy: 0.6667 - 5ms/epoch - 5ms/step\n",
      "Epoch 46/100\n",
      "1/1 - 0s - loss: 0.5668 - accuracy: 0.5556 - 3ms/epoch - 3ms/step\n",
      "Epoch 47/100\n",
      "1/1 - 0s - loss: 0.5636 - accuracy: 0.5556 - 5ms/epoch - 5ms/step\n",
      "Epoch 48/100\n",
      "1/1 - 0s - loss: 0.5589 - accuracy: 0.5556 - 4ms/epoch - 4ms/step\n",
      "Epoch 49/100\n",
      "1/1 - 0s - loss: 0.5540 - accuracy: 0.6667 - 4ms/epoch - 4ms/step\n",
      "Epoch 50/100\n",
      "1/1 - 0s - loss: 0.5503 - accuracy: 0.6667 - 5ms/epoch - 5ms/step\n",
      "Epoch 51/100\n",
      "1/1 - 0s - loss: 0.5464 - accuracy: 0.6667 - 3ms/epoch - 3ms/step\n",
      "Epoch 52/100\n",
      "1/1 - 0s - loss: 0.5419 - accuracy: 0.6667 - 6ms/epoch - 6ms/step\n",
      "Epoch 53/100\n",
      "1/1 - 0s - loss: 0.5374 - accuracy: 0.6667 - 4ms/epoch - 4ms/step\n",
      "Epoch 54/100\n",
      "1/1 - 0s - loss: 0.5337 - accuracy: 0.5556 - 4ms/epoch - 4ms/step\n",
      "Epoch 55/100\n",
      "1/1 - 0s - loss: 0.5298 - accuracy: 0.5556 - 5ms/epoch - 5ms/step\n",
      "Epoch 56/100\n",
      "1/1 - 0s - loss: 0.5254 - accuracy: 0.5556 - 4ms/epoch - 4ms/step\n",
      "Epoch 57/100\n",
      "1/1 - 0s - loss: 0.5215 - accuracy: 0.6667 - 5ms/epoch - 5ms/step\n",
      "Epoch 58/100\n",
      "1/1 - 0s - loss: 0.5180 - accuracy: 0.6667 - 5ms/epoch - 5ms/step\n",
      "Epoch 59/100\n",
      "1/1 - 0s - loss: 0.5142 - accuracy: 0.6667 - 5ms/epoch - 5ms/step\n",
      "Epoch 60/100\n",
      "1/1 - 0s - loss: 0.5103 - accuracy: 0.6667 - 7ms/epoch - 7ms/step\n",
      "Epoch 61/100\n",
      "1/1 - 0s - loss: 0.5069 - accuracy: 0.5556 - 4ms/epoch - 4ms/step\n",
      "Epoch 62/100\n",
      "1/1 - 0s - loss: 0.5035 - accuracy: 0.5556 - 4ms/epoch - 4ms/step\n",
      "Epoch 63/100\n",
      "1/1 - 0s - loss: 0.5000 - accuracy: 0.5556 - 4ms/epoch - 4ms/step\n",
      "Epoch 64/100\n",
      "1/1 - 0s - loss: 0.4967 - accuracy: 0.6667 - 4ms/epoch - 4ms/step\n",
      "Epoch 65/100\n",
      "1/1 - 0s - loss: 0.4936 - accuracy: 0.6667 - 3ms/epoch - 3ms/step\n",
      "Epoch 66/100\n",
      "1/1 - 0s - loss: 0.4904 - accuracy: 0.6667 - 4ms/epoch - 4ms/step\n",
      "Epoch 67/100\n",
      "1/1 - 0s - loss: 0.4872 - accuracy: 0.6667 - 5ms/epoch - 5ms/step\n",
      "Epoch 68/100\n",
      "1/1 - 0s - loss: 0.4843 - accuracy: 0.5556 - 4ms/epoch - 4ms/step\n",
      "Epoch 69/100\n",
      "1/1 - 0s - loss: 0.4814 - accuracy: 0.5556 - 4ms/epoch - 4ms/step\n",
      "Epoch 70/100\n",
      "1/1 - 0s - loss: 0.4784 - accuracy: 0.5556 - 5ms/epoch - 5ms/step\n",
      "Epoch 71/100\n",
      "1/1 - 0s - loss: 0.4756 - accuracy: 0.6667 - 5ms/epoch - 5ms/step\n",
      "Epoch 72/100\n",
      "1/1 - 0s - loss: 0.4728 - accuracy: 0.6667 - 5ms/epoch - 5ms/step\n",
      "Epoch 73/100\n",
      "1/1 - 0s - loss: 0.4700 - accuracy: 0.6667 - 7ms/epoch - 7ms/step\n",
      "Epoch 74/100\n",
      "1/1 - 0s - loss: 0.4672 - accuracy: 0.5556 - 5ms/epoch - 5ms/step\n",
      "Epoch 75/100\n",
      "1/1 - 0s - loss: 0.4645 - accuracy: 0.5556 - 4ms/epoch - 4ms/step\n",
      "Epoch 76/100\n",
      "1/1 - 0s - loss: 0.4618 - accuracy: 0.5556 - 4ms/epoch - 4ms/step\n",
      "Epoch 77/100\n",
      "1/1 - 0s - loss: 0.4591 - accuracy: 0.5556 - 3ms/epoch - 3ms/step\n",
      "Epoch 78/100\n",
      "1/1 - 0s - loss: 0.4564 - accuracy: 0.6667 - 6ms/epoch - 6ms/step\n",
      "Epoch 79/100\n",
      "1/1 - 0s - loss: 0.4536 - accuracy: 0.6667 - 12ms/epoch - 12ms/step\n",
      "Epoch 80/100\n",
      "1/1 - 0s - loss: 0.4509 - accuracy: 0.6667 - 28ms/epoch - 28ms/step\n",
      "Epoch 81/100\n",
      "1/1 - 0s - loss: 0.4481 - accuracy: 0.5556 - 6ms/epoch - 6ms/step\n",
      "Epoch 82/100\n",
      "1/1 - 0s - loss: 0.4453 - accuracy: 0.5556 - 4ms/epoch - 4ms/step\n",
      "Epoch 83/100\n",
      "1/1 - 0s - loss: 0.4425 - accuracy: 0.5556 - 5ms/epoch - 5ms/step\n",
      "Epoch 84/100\n",
      "1/1 - 0s - loss: 0.4396 - accuracy: 0.6667 - 4ms/epoch - 4ms/step\n",
      "Epoch 85/100\n",
      "1/1 - 0s - loss: 0.4367 - accuracy: 0.6667 - 2ms/epoch - 2ms/step\n",
      "Epoch 86/100\n",
      "1/1 - 0s - loss: 0.4337 - accuracy: 0.6667 - 10ms/epoch - 10ms/step\n",
      "Epoch 87/100\n",
      "1/1 - 0s - loss: 0.4307 - accuracy: 0.6667 - 5ms/epoch - 5ms/step\n",
      "Epoch 88/100\n",
      "1/1 - 0s - loss: 0.4276 - accuracy: 0.6667 - 6ms/epoch - 6ms/step\n",
      "Epoch 89/100\n",
      "1/1 - 0s - loss: 0.4244 - accuracy: 0.7778 - 5ms/epoch - 5ms/step\n",
      "Epoch 90/100\n",
      "1/1 - 0s - loss: 0.4212 - accuracy: 0.7778 - 6ms/epoch - 6ms/step\n",
      "Epoch 91/100\n",
      "1/1 - 0s - loss: 0.4179 - accuracy: 0.7778 - 4ms/epoch - 4ms/step\n",
      "Epoch 92/100\n",
      "1/1 - 0s - loss: 0.4145 - accuracy: 0.7778 - 6ms/epoch - 6ms/step\n",
      "Epoch 93/100\n",
      "1/1 - 0s - loss: 0.4110 - accuracy: 0.7778 - 3ms/epoch - 3ms/step\n",
      "Epoch 94/100\n",
      "1/1 - 0s - loss: 0.4074 - accuracy: 0.7778 - 5ms/epoch - 5ms/step\n",
      "Epoch 95/100\n",
      "1/1 - 0s - loss: 0.4036 - accuracy: 0.7778 - 4ms/epoch - 4ms/step\n",
      "Epoch 96/100\n",
      "1/1 - 0s - loss: 0.3998 - accuracy: 0.7778 - 4ms/epoch - 4ms/step\n",
      "Epoch 97/100\n",
      "1/1 - 0s - loss: 0.3959 - accuracy: 0.7778 - 5ms/epoch - 5ms/step\n",
      "Epoch 98/100\n",
      "1/1 - 0s - loss: 0.3919 - accuracy: 0.7778 - 3ms/epoch - 3ms/step\n",
      "Epoch 99/100\n",
      "1/1 - 0s - loss: 0.3877 - accuracy: 0.7778 - 4ms/epoch - 4ms/step\n",
      "Epoch 100/100\n",
      "1/1 - 0s - loss: 0.3835 - accuracy: 0.7778 - 5ms/epoch - 5ms/step\n"
     ]
    }
   ],
   "source": [
    "model.compile(optimizer=optimizer, loss=loss, metrics=[\"accuracy\"]) # для дополнительного контроля \n",
    "                                                                    #-- просим сообщать не только лосс, но и точность.\n",
    "history = model.fit(X, y, epochs=100, verbose=2)"
   ]
  },
  {
   "cell_type": "code",
   "execution_count": 218,
   "metadata": {},
   "outputs": [
    {
     "name": "stdout",
     "output_type": "stream",
     "text": [
      "313/313 [==============================] - 2s 1ms/step\n"
     ]
    },
    {
     "data": {
      "image/png": "[encoded data removed]",
      "text/plain": [
       "<Figure size 640x480 with 2 Axes>"
      ]
     },
     "metadata": {},
     "output_type": "display_data"
    }
   ],
   "source": [
    "import numpy as np\n",
    "import matplotlib.pyplot as plt\n",
    "\n",
    "def plot_decision_boundary(X, y, model, limits=[-1, 11], binary=True, n_lines=100, show_lines=True):\n",
    "    xx, yy = np.meshgrid(np.linspace(limits[0], limits[1], n_lines),\n",
    "                         np.linspace(limits[0], limits[1], n_lines))\n",
    "    Z = model.predict(np.c_[xx.ravel(), yy.ravel()])\n",
    "    \n",
    "    if binary:\n",
    "        Z = (Z > 0.5).astype(int)\n",
    "    \n",
    "    Z = Z.reshape(xx.shape)\n",
    "    \n",
    "    plt.contourf(xx, yy, Z, alpha=0.8)\n",
    "    plt.scatter(X[:, 0], X[:, 1], c=y, cmap=plt.cm.coolwarm, edgecolors='k')\n",
    "    \n",
    "    if show_lines:\n",
    "        plt.colorbar()\n",
    "    \n",
    "    plt.xlabel('Feature 1')\n",
    "    plt.ylabel('Feature 2')\n",
    "    plt.title('Decision Boundary')\n",
    "    plt.show()\n",
    "\n",
    "# Пример использования\n",
    "plot_decision_boundary(X, y, model)\n"
   ]
  },
  {
   "cell_type": "code",
   "execution_count": 219,
   "metadata": {},
   "outputs": [
    {
     "data": {
      "text/html": [
       "<div>\n",
       "<style scoped>\n",
       "    .dataframe tbody tr th:only-of-type {\n",
       "        vertical-align: middle;\n",
       "    }\n",
       "\n",
       "    .dataframe tbody tr th {\n",
       "        vertical-align: top;\n",
       "    }\n",
       "\n",
       "    .dataframe thead th {\n",
       "        text-align: right;\n",
       "    }\n",
       "</style>\n",
       "<table border=\"1\" class=\"dataframe\">\n",
       "  <thead>\n",
       "    <tr style=\"text-align: right;\">\n",
       "      <th></th>\n",
       "      <th>loss</th>\n",
       "      <th>accuracy</th>\n",
       "    </tr>\n",
       "  </thead>\n",
       "  <tbody>\n",
       "    <tr>\n",
       "      <th>0</th>\n",
       "      <td>1.070541</td>\n",
       "      <td>0.444444</td>\n",
       "    </tr>\n",
       "    <tr>\n",
       "      <th>1</th>\n",
       "      <td>0.966517</td>\n",
       "      <td>0.444444</td>\n",
       "    </tr>\n",
       "    <tr>\n",
       "      <th>2</th>\n",
       "      <td>0.880414</td>\n",
       "      <td>0.444444</td>\n",
       "    </tr>\n",
       "    <tr>\n",
       "      <th>3</th>\n",
       "      <td>0.815521</td>\n",
       "      <td>0.444444</td>\n",
       "    </tr>\n",
       "    <tr>\n",
       "      <th>4</th>\n",
       "      <td>0.768306</td>\n",
       "      <td>0.444444</td>\n",
       "    </tr>\n",
       "  </tbody>\n",
       "</table>\n",
       "</div>"
      ],
      "text/plain": [
       "       loss  accuracy\n",
       "0  1.070541  0.444444\n",
       "1  0.966517  0.444444\n",
       "2  0.880414  0.444444\n",
       "3  0.815521  0.444444\n",
       "4  0.768306  0.444444"
      ]
     },
     "execution_count": 219,
     "metadata": {},
     "output_type": "execute_result"
    }
   ],
   "source": [
    "pd.DataFrame(history.history).head()"
   ]
  }
 ],
 "metadata": {
  "kernelspec": {
   "display_name": "Python 3 (ipykernel)",
   "language": "python",
   "name": "python3"
  },
  "language_info": {
   "codemirror_mode": {
    "name": "ipython",
    "version": 3
   },
   "file_extension": ".py",
   "mimetype": "text/x-python",
   "name": "python",
   "nbconvert_exporter": "python",
   "pygments_lexer": "ipython3",
   "version": "3.11.5"
  }
 },
 "nbformat": 4,
 "nbformat_minor": 2
}
